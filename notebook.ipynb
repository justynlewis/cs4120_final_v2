{
 "cells": [
  {
   "cell_type": "code",
   "execution_count": 9,
   "metadata": {},
   "outputs": [
    {
     "name": "stdout",
     "output_type": "stream",
     "text": [
      "Length of songs dataset:  20404\n",
      "Length of poems dataset:  13854\n"
     ]
    }
   ],
   "source": [
    "import pandas as pd\n",
    "import numpy as np\n",
    "import re\n",
    "import string\n",
    "import tensorflow as tf\n",
    "import matplotlib.pyplot as plt\n",
    "\n",
    "from keras.layers import Embedding, LSTM, Dense, Dropout\n",
    "from keras.preprocessing.text import Tokenizer\n",
    "from keras.callbacks import EarlyStopping\n",
    "from keras.models import Sequential\n",
    "from keras_preprocessing.sequence import pad_sequences\n",
    "import keras.utils as ku\n",
    "\n",
    "# utility function for plotting graphs\n",
    "def plot_graphs(history, metric):\n",
    "  plt.plot(history.history[metric])\n",
    "  plt.plot(history.history['val_'+metric], '')\n",
    "  plt.xlabel(\"Epochs\")\n",
    "  plt.ylabel(metric)\n",
    "  plt.legend([metric, 'val_'+metric])\n",
    "\n",
    "# Load the datasets\n",
    "songs_path = 'datasets/lyrics.csv'\n",
    "songs_df = pd.read_csv(songs_path, sep=\"\\t\")\n",
    "print(\"Length of songs dataset: \", len(songs_df))\n",
    "\n",
    "poems_path = 'datasets/PoetryFoundationData.csv'\n",
    "poems_df = pd.read_csv(poems_path)\n",
    "print(\"Length of poems dataset: \", len(poems_df))\n",
    "\n",
    "# Combine the datasets\n",
    "combined_df = pd.concat([songs_df['lyrics'], poems_df['Poem']], axis=0, ignore_index=True)\n",
    "combined_df = combined_df.dropna()\n",
    "combined_list = combined_df.tolist()\n",
    "\n",
    "\n"
   ]
  },
  {
   "cell_type": "code",
   "execution_count": 10,
   "metadata": {},
   "outputs": [
    {
     "name": "stdout",
     "output_type": "stream",
     "text": [
      "[' thought id end up with sean but he wasnt a match wrote some songs about ricky now i listen and laugh even almost got married and for pete im so thankful wish i could say thank you to malcolm cause he was an angel   one taught me love one taught me patience and one taught me pain now im so amazing say ive loved and ive lost but thats not what i see so look what i got look what you taught me and for that i say   thank you next next thank you next next thank you next im so fuckin grateful for my ex thank you next next thank you next next thank you next next im so fuckin—   spend more time with my friends i aint worried bout nothin plus i met someone else we havin better discussions i know they say i move on too fast but this one gon last cause her name is ari and im so good with that so good with that   she taught me love love she taught me patience patience how she handles pain pain that shits amazing yeah shes amazing ive loved and ive lost yeah yeah but thats not what i see yeah yeah cause look what ive found yeah yeah aint no need for searching and for that i say   thank you next thank you next thank you next thank you next thank you next thank you im so fuckin grateful for my ex thank you next thank you next thank you next said thank you next thank you next next im so fuckin grateful for my ex   thank you next thank you next thank you next im so fuckin—   one day ill walk down the aisle holding hands with my mama ill be thanking my dad cause she grew from the drama only wanna do it once real bad gon make that shit last god forbid something happens least this song is a smash song is a smash   ive got so much love love got so much patience patience ive learned from the pain pain i turned out amazing turned out amazing say ive loved and ive lost yeah yeah but thats not what i see yeah yeah cause look what ive found yeah yeah aint no need for searching and for that i say   thank you next thank you next thank you next thank you next thank you next im so fuckin grateful for my ex thank you next thank you next thank you next said thank you next thank you next next im so fuckin grateful for my ex   thank you next thank you next thank you next yeah yee thank you next thank you next thank you next yeah yee', ' found you when your heart was broke i filled your cup until it overflowed took it so far to keep you close keep you close i was afraid to leave you on your own   i said id catch you if you fall fall and if they laugh then fuck em all all and then i got you off your knees put you right back on your feet just so you could take advantage of me   tell me hows it feel sittin up there feelin so high but too far away to hold me you know im the one who put you up there name in the sky does it ever get lonely thinking you could live without me thinking you could live without me baby im the one who put you up there i dont know why yeah i dont know why thinking you could live without me live without me baby im the one who put you up there i dont know why i dont know why yeah yeah   gave love bout a hundred tries hundred tries just running from the demons in your mind then i took yours and made em mine mine i didnt notice cause my love was blind   said id catch you if you fall fall and if they laugh then fuck em all all and then i got you off your knees put you right back on your feet just so you could take advantage of me   tell me hows it feel sittin up there feelin so high but too far away to hold me you know im the one who put you up there name in the sky does it ever get lonely thinking you could live without me thinking you could live without me baby im the one who put you up there i dont know why yeah i dont know why thinking you could live without me live without me baby im the one who put you up there i dont know why yeah   you dont have to say just what you did what you did i already know i know i had to go and find out from them ohwoah so tell me hows it feel ohwoah   tell me hows it feel sittin up there feelin so high but too far away to hold me you know im the one who put you up there name in the sky does it ever get lonely thinking you could live without me thinking you could live without me baby im the one who put you up there i dont know why yeah i dont know why', '   astro yeah sun is down freezin cold thats how we already know winters here my dawg would probably do it for a louis belt thats just all he know he dont know nothin else i tried to show em yeah i tried to show em yeah yeah yeah yeah yeah goin on you with the pick and roll young la flame he in sicko mode     woo made this here with all the ice on in the booth at the gate outside when they pull up they get me loose yeah jump out boys thats nike boys hoppin out coupes this shit way too big when we pull up give me the loot gimme the loot was off the remy had a papoose had to hit my old town to duck the news two four hour lockdown we made no moves now its 4 am and im back up poppin with the crew i just landed in chase b mixes pop like jamba juice different colored chains think my jeweler really sellin fruits and they chokin man know the crackers wish it was a noose   somesomesomesomeone said to win the retreat we all in too deep plplplayin for keeps dont play us for weak someone said to win the retreat we all in too deep plplplayin for keeps dont play us for weak   yeah this shit way too formal yall know i don’t follow suit stacey dash most of these girls aint got a clue all of these hoes i made off records i produced i might take all my exes and put em all in a group hit my eses i need the bootch bout to turn this function to bonnaroo told her hop in you comin too in the 305 bitches treat me like im uncle luke dont stop pop that pussy had to slop the top off its just a roof uh she said where we goin i said the moon we aint even make it to the room she thought it was the ocean its just the pool now i got her open its just the goose who put this shit together im the glue   someone said shorty facetimed me out the blue someone said plplayin for keeps someone said motherfucker—someone said dont play us for weak     yeah astro yeah yeah tay keith fuck these niggas up ayy ayy   shes in love with who i am back in high school i used to bus it to the dance yeah now i hit the fbo with duffels in my hands i did half a xan 13 hours til i land had me out like a light ayy yeah like a light ayy yeah   like a light ayy slept through the flight ayy knocked for the night ayy 767 man this shit got double bedroom man i still got scores to settle man i crept down the block down the block made a right yeah right cut the lights yeah what paid the price yeah niggas think its sweet nah never its on sight yeah what nothin nice yeah baguettes in my ice aw man jesus christ yeah checks over stripes yeah thats what i like yeah thats what we like yeah lost my respect you not a threat when i shoot my shot that shit wetty like im sheck bitch see the shots that i took ayy wet like im book ayy wet like im lizzie i be spinnin valley circle blocks til im dizzy yeah what like where is he yeah what no one seen him yeah yeah im tryna clean em yeah   shes in love with who i am back in high school i used to bus it to the dance now i hit the fbo with duffels in my hands woo i did half a xan 13 hours til i land had me out like a light like a light like a light like a light like a light like a light like a light   yeah passed the dawgs a celly sendin texts aint sendin kites yeah he said keep that on lock i say you know this shit its stife yeah its absolute yeah yeah im back reboot its lit laferrari to jamba juice yeah skrrt skrrt we back on the road they jumpin off no parachute yeah shawty in the back she said she workin on her glutes yeah oh my god aint by the book yeah this how it look yeah bout a check yeah check just check the foots yeah pass this to my daughter ima show her what it took yeah baby mama cover forbes got these other bitches shook yeah', ' high high hopes   had to have high high hopes for a living shooting for the stars when i couldnt make a killing didnt have a dime but i always had a vision always had high high hopes high high hopes had to have high high hopes for a living didnt know how but i always had a feeling i was gonna be that one in a million always had high high hopes   mama said fulfill the prophecy be something greater go make a legacy manifest destiny back in the days we wanted everything wanted everything mama said burn your biographies rewrite your history light up your wildest dreams museum victories every day we wanted everything wanted everything   mama said dont give up its a little complicated all tied up no more love and id hate to see you waiting   had to have high high hopes for a living shooting for the stars when i couldnt make a killing didnt have a dime but i always had a vision always had high high hopes had to have high high hopes for a living didnt know how but i always had a feeling i was gonna be that one in a million always had high high hopes high high hopes   mama said its uphill for oddities the stranger crusaders aint ever wannabes the weird and the novelties dont ever change we wanted everything wanted everything high high hopes   stay up on that rise stay up on that rise and never come down oh stay up on that rise stay up on that rise and never come down   mama said dont give up its a little complicated all tied up no more love and id hate to see you waiting they say its all been done but they havent seen the best of meeheheh so i got one more run and its gonna be a sight to seeeheheh   had to have high high hopes for a living shooting for the stars when i couldnt make a killing didnt have a dime but i always had a vision always had high high hopes high high hopes had to have high high hopes for a living didnt know how but i always had a feeling i was gonna be that one in a million always had high high hopes high high hopes   had to have high high hopes for a living shooting for the stars when i couldnt make a killing didnt have a dime but i always had a vision always had high high hopes had to have high high hopes for a living didnt know how but i always had a feeling i was gonna be that one in a million always had high high hopes high high hopes', ' iii dont want a lot for christmas there is just one thing i need i dont care about the presents underneath the christmas tree i just want you for my own more than you could ever know make my wish come true all i want for christmas is you yeah   i dont want a lot for christmas there is just one thing i need and i dont care about the presents underneath the christmas tree i dont need to hang my stocking there upon the fireplace i santa claus wont make me happy with a toy on christmas day   i just want you for my own ooh ooh ooh more than you could ever know oh oh oh make my wish come true all i want for christmas is you you baby   oh i wont ask for much this christmas i wont even wish for snow and i im just going to keep on waiting underneath the mistletoe i wont make a list and send it to the north pole for saint nick i i wont even stay awake to hear those magic reindeer click   cause i just want you here tonight ooh ooh ooh holding on to me so tight oh oh oh what more can i do oh baby all i want for christmas is you you baby   oh all the lights are shining so brightly everywhere so brightly baby and the sound of childrens laughter fills the air oh oh and everyone is singing oh yeah i hear those sleigh bells ringing yeah oh santa wont you bring me the one i really need yeah oh oh wont you please bring my baby to me yeah   oh i dont want a lot for christmas this is all im asking for ah i just want to see my baby standing right outside my door   oh i just want you for my own ooh more than you could ever know oh oh make my wish come true oh baby all i want for christmas is   you you baby all i want for christmas is you baby you all all all all i want for christmas is you baby you all i want for christmas is you baby']\n",
      "Max sequence length:  115273\n",
      "Padded sequences:  [215 351 249 ...   0   0   0]\n"
     ]
    }
   ],
   "source": [
    "# utility function for cleaning the lyrics\n",
    "def clean_lyrics(lyrics):\n",
    "    # Remove newlines and brackets\n",
    "    lyrics = re.sub(r'\\\\n', ' ', lyrics)\n",
    "    lyrics = re.sub(r'\\[.*?\\]', '', lyrics)\n",
    "    # Remove punctuation\n",
    "    lyrics = lyrics.translate(str.maketrans('', '', string.punctuation))\n",
    "    # Convert to lowercase\n",
    "    lyrics = lyrics.lower()\n",
    "    return lyrics\n",
    "\n",
    "# Clean the lyrics\n",
    "for i in range(len(combined_list)):\n",
    "    combined_list[i] = clean_lyrics(combined_list[i])\n",
    "\n",
    "# Tokenize the lyrics\n",
    "def tokenize_lyrics(lyrics):\n",
    "    tokenizer = Tokenizer()\n",
    "    tokenizer.fit_on_texts(lyrics)\n",
    "    total_words = len(tokenizer.word_index) + 1\n",
    "    return tokenizer, total_words\n",
    "\n",
    "tokenizer, total_words = tokenize_lyrics(combined_list)\n",
    "\n",
    "def get_sequences(tokenizer, lyrics):\n",
    "    sequences = []\n",
    "    for line in lyrics:\n",
    "        token_list = tokenizer.texts_to_sequences([line])[0]\n",
    "        for i in range(1, len(token_list)):\n",
    "            n_gram_sequence = token_list[:i+1]\n",
    "            sequences.append(n_gram_sequence)\n",
    "    return sequences\n",
    "max_tokenized_len = max([len(x) for x in combined_list])\n",
    "print(combined_list[:5])\n",
    "\n",
    "# Convert text to sequences\n",
    "sequences = tokenizer.texts_to_sequences(combined_list)\n",
    "\n",
    "max_sequence_len = max([len(x) for x in sequences])\n",
    "print(\"Max sequence length: \", max_sequence_len)\n",
    "padded_sequences = pad_sequences(sequences, maxlen=max_sequence_len, padding='post')\n",
    "\n",
    "print(\"Padded sequences: \", padded_sequences[0])\n"
   ]
  },
  {
   "cell_type": "code",
   "execution_count": 11,
   "metadata": {},
   "outputs": [
    {
     "name": "stdout",
     "output_type": "stream",
     "text": [
      "Model: \"sequential_2\"\n",
      "_________________________________________________________________\n",
      " Layer (type)                Output Shape              Param #   \n",
      "=================================================================\n",
      " embedding_2 (Embedding)     (None, 115272, 10)        3040610   \n",
      "                                                                 \n",
      " lstm_2 (LSTM)               (None, 100)               44400     \n",
      "                                                                 \n",
      " dropout_2 (Dropout)         (None, 100)               0         \n",
      "                                                                 \n",
      " dense_2 (Dense)             (None, 304061)            30710161  \n",
      "                                                                 \n",
      "=================================================================\n",
      "Total params: 33,795,171\n",
      "Trainable params: 33,795,171\n",
      "Non-trainable params: 0\n",
      "_________________________________________________________________\n"
     ]
    },
    {
     "name": "stderr",
     "output_type": "stream",
     "text": [
      "2024-04-17 04:50:29.674368: I tensorflow/core/common_runtime/executor.cc:1197] [/device:CPU:0] (DEBUG INFO) Executor start aborting (this does not indicate an error and you can ignore this message): INVALID_ARGUMENT: You must feed a value for placeholder tensor 'gradients/split_2_grad/concat/split_2/split_dim' with dtype int32\n",
      "\t [[{{node gradients/split_2_grad/concat/split_2/split_dim}}]]\n",
      "2024-04-17 04:50:29.676733: I tensorflow/core/common_runtime/executor.cc:1197] [/device:CPU:0] (DEBUG INFO) Executor start aborting (this does not indicate an error and you can ignore this message): INVALID_ARGUMENT: You must feed a value for placeholder tensor 'gradients/split_grad/concat/split/split_dim' with dtype int32\n",
      "\t [[{{node gradients/split_grad/concat/split/split_dim}}]]\n",
      "2024-04-17 04:50:29.677725: I tensorflow/core/common_runtime/executor.cc:1197] [/device:CPU:0] (DEBUG INFO) Executor start aborting (this does not indicate an error and you can ignore this message): INVALID_ARGUMENT: You must feed a value for placeholder tensor 'gradients/split_1_grad/concat/split_1/split_dim' with dtype int32\n",
      "\t [[{{node gradients/split_1_grad/concat/split_1/split_dim}}]]\n"
     ]
    }
   ],
   "source": [
    "# Build the model\n",
    "def create_model(max_sequence_length, total_words):\n",
    "    input_len = max_sequence_length - 1\n",
    "    model = Sequential()\n",
    "    # Add an embedding layer\n",
    "    model.add(Embedding(total_words, 10, input_length=input_len))\n",
    "    # Add an LSTM layer\n",
    "    model.add(LSTM(100))\n",
    "    model.add(Dropout(0.1))\n",
    "    # Add a output layer\n",
    "    model.add(Dense(total_words, activation='softmax'))\n",
    "    model.compile(loss='categorical_crossentropy', optimizer='adam', metrics=['accuracy'])\n",
    "    return model\n",
    "\n",
    "model = create_model(max_sequence_len, total_words)\n",
    "model.summary()"
   ]
  },
  {
   "cell_type": "code",
   "execution_count": null,
   "metadata": {},
   "outputs": [],
   "source": [
    "model.fit"
   ]
  }
 ],
 "metadata": {
  "kernelspec": {
   "display_name": "base",
   "language": "python",
   "name": "python3"
  },
  "language_info": {
   "codemirror_mode": {
    "name": "ipython",
    "version": 3
   },
   "file_extension": ".py",
   "mimetype": "text/x-python",
   "name": "python",
   "nbconvert_exporter": "python",
   "pygments_lexer": "ipython3",
   "version": "3.11.5"
  }
 },
 "nbformat": 4,
 "nbformat_minor": 2
}
